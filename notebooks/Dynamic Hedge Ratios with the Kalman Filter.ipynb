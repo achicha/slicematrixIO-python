{
 "cells": [
  {
   "cell_type": "markdown",
   "metadata": {},
   "source": [
    "# Dynamic Hedge Ratios with the Kalman Filter"
   ]
  },
  {
   "cell_type": "markdown",
   "metadata": {},
   "source": [
    "### A New Tool for Pairs Trading"
   ]
  },
  {
   "cell_type": "markdown",
   "metadata": {},
   "source": [
    "<strong>Imagine this scenario</strong>: you are a statistical arbitrage trader at a prop desk or HF. As such, you routinely hold an inventory of ETF exposure that you must hedge.\n",
    "\n",
    "The previous night, you instructed your overnight traders to <strong>calculate the hedge ratios</strong> for a matrix of ETF's.\n",
    "\n",
    "The next morning before the market opens, your junior traders eagerly present their results for your inspection. Liking what you see, you load the hedge ratios into your trading platform and wait for the open.\n",
    "\n",
    "When the market first opens for trading, you re-balance your hedges according to the new ratios. Afterwards, you watch in horror as your hedges do not perform as expected. <strong>What went wrong?</strong>\n",
    "\n",
    "<strong>Every good trader knows they have to adapt</strong> when conditions in the market change, so why do we demand otherwise from our trading models? The traders in our example relied on static hedge ratios to power their trading logic. As a result, they opened themselves up to what is known as <a href=\"https://mktstk.wordpress.com/2015/07/30/research-links-hueristics-and-perception/\">parameter risk</a>.\n",
    "\n",
    "Updating your parameters as new information becomes available is one way to protect yourself from this under-appreciated trading risk. By far the most ubiquitous model for accomplishing this in a trading scenario is the Kalman Filter. This is useful when you are dealing with a linear model such as pairs trading, which in its <em>simplest form</em> reduces down to trading the residual of a linear regression:\n",
    "<p style=\"text-align: center;\">${\\bf Y}_{t} = {\\boldsymbol \\beta }_{t}*{\\bf X}_{t} + {\\bf e}_{t}$</p>\n",
    "<p style=\"text-align: left;\">Where $ {\\bf Y}_{t}$ is the current price of the first stock, $ {\\bf X}_{t}$ is the current price of the second stock, $ {\\boldsymbol \\beta }_{t}$ is our current hedge ratio and $ {\\bf e}_{t}$ is the current spread price we are trading. We could also estimate the hedge ratio using the log changes in X and Y, instead of their levels. This would be more likely to be the case in a High Frequency Trading scenario, where all we care about are price changes.</p>\n",
    "<p style=\"text-align: left;\">The Kalman Filter allows us to vary the hedge ratio over time. For example, suppose we assume the hedge ratio follows a random walk, i.e.</p>\n",
    "<p style=\"text-align: center;\">$ {\\boldsymbol \\beta}_{t} = {\\boldsymbol \\beta}_{t-1} + {\\bf w}_{t}$</p>\n",
    "<p style=\"text-align: left;\">Where $ {\\boldsymbol \\beta}_{t}$ is the current state of the hedge ratio, $ {\\boldsymbol \\beta}_{t-1}$ is the last state and $ {\\bf w}_{t}$ is random white noise with mean of zero and volatility $ {\\boldsymbol \\sigma}_{w}$.</p>\n",
    "<p style=\"text-align: left;\">The Kalman Filter was designed for estimating the \"hidden state\" of a linear Gaussian model like Pairs Trading. The filter is based off of a system of equations:</p>\n",
    "<p style=\"text-align: center;\"> $ Transition Equation: {\\bf x}_{t+1} = {\\bf A}_{t} {\\bf x}_{t} + {\\bf w}_{t}\\\\\n",
    "Observation Equation: {\\bf z}_{t} = {\\bf H}_{t} {\\bf x}_{t} + {\\bf e}_{t}$</p>\n",
    "<p style=\"text-align: left;\">Where:</p>\n",
    "\n",
    "<ul>\n",
    "\t<li>$ {\\bf x}_{t} $ is the current hidden state (e.g. our hedge ratio),</li>\n",
    "\t<li>$ {\\bf A}_{t} $ is the transition matrix (e.g. the identity matrix, $latex \\bf I$ )</li>\n",
    "\t<li>$ {\\bf z}_{t} $ is the latest observation vector (e.g. the log change of stock Y)</li>\n",
    "\t<li>$ {\\bf H}_{t} $ is the latest observation matrix (e.g. the log change of stock X)</li>\n",
    "\t<li>$ {\\bf w}_{t}, {\\bf e}_{t}$ are Gaussian white noise with mean zero and variances $ {\\sigma}_{w}, {\\sigma}_{e}$</li>\n",
    "</ul>\n",
    "\n",
    "<p>Let's look at a concrete example of the Kalman Filter in action to get a better understanding of its moving parts.</p>\n",
    "\n",
    "<p><a href = \"http://www.slicematrix.com\">SliceMatrix-IO</a> provides a simple yet powerful Kalman Filter pipeline optimized for pairs trading called <b>KalmanOLS</b> which we will examine in a real world trading example below.</p>\n",
    "\n",
    "<p>The goal of this notebook is to use the KalmanOLS pipeline to determine:</p>\n",
    "<ul>\n",
    "<li>The best hedges for AAPL</li>\n",
    "<li>Estimate the online hedge ratio for the best AAPL hedge and</li> \n",
    "<li>Update our hedge ratio as we observe new price data</li>\n",
    "</ul>\n",
    "<p>To do this, we begin by importing the SliceMatrix-IO Python client. </p>\n",
    "\n",
    "<p>If you haven't installed the client yet, the easiest way is with pip:</p>\n",
    "\n"
   ]
  },
  {
   "cell_type": "markdown",
   "metadata": {},
   "source": [
    "<pre>\n",
    "pip install slicematrixIO\n",
    "</pre>"
   ]
  },
  {
   "cell_type": "markdown",
   "metadata": {},
   "source": [
    "<p>First lets import slicematrixIO and create our client which will do the heavy lifting. Make sure to replace the api key below with your own key. </p>\n",
    "\n",
    "<p>Don't have a key yet? <a href = \"http://www.slicematrix.com\">Get your api key here</a></p>"
   ]
  },
  {
   "cell_type": "code",
   "execution_count": 1,
   "metadata": {
    "collapsed": true
   },
   "outputs": [],
   "source": [
    "from slicematrixIO import SliceMatrix\n",
    "\n",
    "api_key = \"insert your key here\"\n",
    "sm = SliceMatrix(api_key)"
   ]
  },
  {
   "cell_type": "markdown",
   "metadata": {},
   "source": [
    "<p>Next let's import some useful Python modules such as Pandas, NumPy, and Pyplot</p>"
   ]
  },
  {
   "cell_type": "code",
   "execution_count": 2,
   "metadata": {
    "collapsed": false
   },
   "outputs": [
    {
     "name": "stdout",
     "output_type": "stream",
     "text": [
      "Populating the interactive namespace from numpy and matplotlib\n"
     ]
    }
   ],
   "source": [
    "%matplotlib inline\n",
    "%pylab inline\n",
    "import pandas as pd\n",
    "#import pandas.io.data as web\n",
    "from pandas_datareader import data as web\n",
    "import datetime as dt\n",
    "import numpy as np\n",
    "import matplotlib.pyplot as plt"
   ]
  },
  {
   "cell_type": "markdown",
   "metadata": {},
   "source": [
    "Then we can read in a csv file with the over 500 trading symbols in our universe"
   ]
  },
  {
   "cell_type": "code",
   "execution_count": 3,
   "metadata": {
    "collapsed": true
   },
   "outputs": [],
   "source": [
    "symbols = pd.read_csv(\"notebook_files/symbols.csv\", index_col = 0)"
   ]
  },
  {
   "cell_type": "code",
   "execution_count": 4,
   "metadata": {
    "collapsed": false
   },
   "outputs": [
    {
     "data": {
      "text/html": [
       "<div>\n",
       "<table border=\"1\" class=\"dataframe\">\n",
       "  <thead>\n",
       "    <tr style=\"text-align: right;\">\n",
       "      <th></th>\n",
       "      <th>0</th>\n",
       "    </tr>\n",
       "  </thead>\n",
       "  <tbody>\n",
       "    <tr>\n",
       "      <th>0</th>\n",
       "      <td>GLD</td>\n",
       "    </tr>\n",
       "    <tr>\n",
       "      <th>1</th>\n",
       "      <td>SLV</td>\n",
       "    </tr>\n",
       "    <tr>\n",
       "      <th>2</th>\n",
       "      <td>PPLT</td>\n",
       "    </tr>\n",
       "    <tr>\n",
       "      <th>3</th>\n",
       "      <td>COW</td>\n",
       "    </tr>\n",
       "    <tr>\n",
       "      <th>4</th>\n",
       "      <td>DBB</td>\n",
       "    </tr>\n",
       "  </tbody>\n",
       "</table>\n",
       "</div>"
      ],
      "text/plain": [
       "      0\n",
       "0   GLD\n",
       "1   SLV\n",
       "2  PPLT\n",
       "3   COW\n",
       "4   DBB"
      ]
     },
     "execution_count": 4,
     "metadata": {},
     "output_type": "execute_result"
    }
   ],
   "source": [
    "symbols.head()"
   ]
  },
  {
   "cell_type": "markdown",
   "metadata": {},
   "source": [
    "<p>Now we can grab trading price data from Yahoo for our list of stocks using Pandas' Data-Reader</p>\n",
    "\n",
    "<p>Since its a lot of symbols, the following code will print out the current symbol so we can keep track of progress</p>"
   ]
  },
  {
   "cell_type": "code",
   "execution_count": 5,
   "metadata": {
    "collapsed": false
   },
   "outputs": [
    {
     "name": "stdout",
     "output_type": "stream",
     "text": [
      "GLD SLV PPLT COW DBB JJC USO UNG DBC DJP GSG DBA RJA JO JJG CORN BND AGG CMBS BKLN CWB LQD HYG JNK SHY IEF IEI EMB TLT TIP MBB MUB UUP YCS USDU VXX EFA VWO VEA EEM EWA EWC EWD EWG EWH EWI EWJ EWL EWP EWT EWU EWW EWY EWZ FXI INDA MCHI RSX EWK EWM EWN EWO EWQ EWS EZA THD TUR EIDO SPY MMM ABT ABBV ACN ATVI ADBE AAP AES AET AFL AMG A APD AKAM AA AGN ALXN ALLE ADS ALL GOOGL GOOG MO AMZN AEE AAL AEP AXP AIG AMT AMP ABC AME AMGN APH APC ADI AON APA AIV AAPL AMAT ADM AIZ T ADSK ADP AN AZO AVGO AVB AVY BHI BLL BAC BK BCR BAX BBT BDX BBBY BBY BIIB BLK HRB BA BWA BXP BSX BMY CHRW CA COG CPB COF CAH HSIC KMX CCL CAT CBG CBS CELG CNP CTL CERN CF SCHW CHK CVX CMG CB CHD CI XEC CINF CTAS CSCO C CTXS CLX CME CMS COH KO CCE CTSH CL CMCSA CMA CAG COP CNX ED STZ GLW COST CCI CSRA CSX CMI CVS DHI DHR DRI DVA DE DLPH DAL XRAY DVN DO DFS DISCA DISCK DG DLTR D DOV DOW DPS DTE DD DUK DNB ETFC EMN ETN EBAY ECL EIX EW EA EMC EMR ENDP ESV ETR EOG EQT EFX EQIX EQR ESS EL ES EXC EXPE EXPD ESRX EXR XOM FFIV FB FAST FDX FIS FITB FSLR FE FISV FLIR FLS FLR FMC FTI F BEN FCX FTR GME GPS GRMN GD GE GGP GIS GM GPC GILD GS GT GWW HAL HBI HOG HAR HRS HIG HAS HCA HCP HP HES HPE HD HON HRL HST HPQ HUM HBAN ITW ILMN IR INTC ICE IBM IP IPG IFF INTU ISRG IVZ IRM JEC JBHT JNJ JCI JPM JNPR KSU K KEY KMB KIM KMI KLAC KSS KHC KR LB LLL LH LRCX LM LEG LEN LVLT LUK LLY LNC LLTC LMT L LOW LYB MTB MAC M MNK MRO MPC MAR MMC MLM MAS MA MAT MKC MCD MCK MJN WRK MDT MRK MET KORS MCHP MU MSFT MHK TAP MDLZ MON MNST MCO MS MOS MSI MUR MYL NDAQ NOV NAVI NTAP NFLX NWL NFX NEM NWSA NWS NEE NLSN NKE NI NBL JWN NSC NTRS NOC NRG NUE NVDA ORLY OXY OMC OKE ORCL OI PCAR PH PDCO PAYX PYPL PNR PBCT PEP PKI PRGO PFE PCG PM PSX PNW PXD PBI PNC RL PPG PPL PX PCLN PFG PG PGR PLD PRU PEG PSA PHM PVH QRVO PWR QCOM DGX RRC RTN O RHT REGN RF RSG RAI RHI ROK COL ROP ROST RCL R CRM SCG SLB SNI STX SEE SRE SHW SIG SPG SWKS SLG SJM SNA SO LUV SWN SE STJ SWK SPLS SBUX HOT STT SRCL SYK STI SYMC SYF SYY TROW TGT TEL TGNA THC TDC TSO TXN TXT HSY TRV TMO TIF TWX TJX TMK TSS TSCO RIG TRIP FOXA FOX TSN TYC USB UA UNP UAL UNH UPS URI UTX UHS UNM URBN VFC VLO VAR VTR VRSN VRSK VZ VRTX VIAB V VNO VMC WMT WBA DIS WM WAT ANTM WFC HCN WDC WU WY WHR WFM WMB WLTW WEC WYN WYNN XEL XRX XLNX XL XYL YHOO YUM ZBH ZION\n"
     ]
    }
   ],
   "source": [
    "start = dt.datetime(2016, 1, 1)\n",
    "end = dt.datetime(2017, 3, 6)\n",
    "\n",
    "volume = []\n",
    "closes = []\n",
    "for symbol in symbols.values.tolist():\n",
    "    print symbol[0],\n",
    "    vdata = web.DataReader(symbol[0], 'yahoo', start, end)\n",
    "    cdata = vdata[['Close']]\n",
    "    closes.append(cdata)\n",
    "    vdata = vdata[['Volume']]\n",
    "    volume.append(vdata)\n",
    "    \n"
   ]
  },
  {
   "cell_type": "code",
   "execution_count": 6,
   "metadata": {
    "collapsed": false
   },
   "outputs": [],
   "source": [
    "closes = pd.concat(closes, axis = 1)"
   ]
  },
  {
   "cell_type": "code",
   "execution_count": 7,
   "metadata": {
    "collapsed": true
   },
   "outputs": [],
   "source": [
    "closes.columns = symbols.T.values.tolist()"
   ]
  },
  {
   "cell_type": "markdown",
   "metadata": {},
   "source": [
    "<p>To determine the best hedges for AAPL, let's first take the log differences of the raw price data. This way we can find the most similar stocks to AAPL in terms of price changes, as opposed to price levels.</p>"
   ]
  },
  {
   "cell_type": "code",
   "execution_count": 8,
   "metadata": {
    "collapsed": false
   },
   "outputs": [
    {
     "data": {
      "text/html": [
       "<div>\n",
       "<table border=\"1\" class=\"dataframe\">\n",
       "  <thead>\n",
       "    <tr style=\"text-align: right;\">\n",
       "      <th></th>\n",
       "      <th>GLD</th>\n",
       "      <th>SLV</th>\n",
       "      <th>PPLT</th>\n",
       "      <th>COW</th>\n",
       "      <th>DBB</th>\n",
       "      <th>JJC</th>\n",
       "      <th>USO</th>\n",
       "      <th>UNG</th>\n",
       "      <th>DBC</th>\n",
       "      <th>DJP</th>\n",
       "      <th>...</th>\n",
       "      <th>WYNN</th>\n",
       "      <th>XEL</th>\n",
       "      <th>XRX</th>\n",
       "      <th>XLNX</th>\n",
       "      <th>XL</th>\n",
       "      <th>XYL</th>\n",
       "      <th>YHOO</th>\n",
       "      <th>YUM</th>\n",
       "      <th>ZBH</th>\n",
       "      <th>ZION</th>\n",
       "    </tr>\n",
       "    <tr>\n",
       "      <th>Date</th>\n",
       "      <th></th>\n",
       "      <th></th>\n",
       "      <th></th>\n",
       "      <th></th>\n",
       "      <th></th>\n",
       "      <th></th>\n",
       "      <th></th>\n",
       "      <th></th>\n",
       "      <th></th>\n",
       "      <th></th>\n",
       "      <th></th>\n",
       "      <th></th>\n",
       "      <th></th>\n",
       "      <th></th>\n",
       "      <th></th>\n",
       "      <th></th>\n",
       "      <th></th>\n",
       "      <th></th>\n",
       "      <th></th>\n",
       "      <th></th>\n",
       "      <th></th>\n",
       "    </tr>\n",
       "  </thead>\n",
       "  <tbody>\n",
       "    <tr>\n",
       "      <th>2016-01-05</th>\n",
       "      <td>0.002815</td>\n",
       "      <td>0.009057</td>\n",
       "      <td>0.004912</td>\n",
       "      <td>0.009163</td>\n",
       "      <td>0.001724</td>\n",
       "      <td>0.007494</td>\n",
       "      <td>-0.029577</td>\n",
       "      <td>0.012813</td>\n",
       "      <td>-0.009852</td>\n",
       "      <td>-0.004236</td>\n",
       "      <td>...</td>\n",
       "      <td>0.018727</td>\n",
       "      <td>0.010034</td>\n",
       "      <td>-0.001944</td>\n",
       "      <td>0.014738</td>\n",
       "      <td>0.002092</td>\n",
       "      <td>-0.000277</td>\n",
       "      <td>0.025159</td>\n",
       "      <td>-0.002496</td>\n",
       "      <td>0.020609</td>\n",
       "      <td>-0.010917</td>\n",
       "    </tr>\n",
       "    <tr>\n",
       "      <th>2016-01-06</th>\n",
       "      <td>0.014337</td>\n",
       "      <td>0.003750</td>\n",
       "      <td>-0.010085</td>\n",
       "      <td>-0.001245</td>\n",
       "      <td>-0.008651</td>\n",
       "      <td>-0.001245</td>\n",
       "      <td>-0.052973</td>\n",
       "      <td>-0.019872</td>\n",
       "      <td>-0.016123</td>\n",
       "      <td>-0.012818</td>\n",
       "      <td>...</td>\n",
       "      <td>-0.053195</td>\n",
       "      <td>0.010483</td>\n",
       "      <td>-0.012727</td>\n",
       "      <td>-0.018457</td>\n",
       "      <td>-0.008656</td>\n",
       "      <td>-0.012554</td>\n",
       "      <td>-0.001243</td>\n",
       "      <td>-0.007106</td>\n",
       "      <td>0.004320</td>\n",
       "      <td>-0.029578</td>\n",
       "    </tr>\n",
       "    <tr>\n",
       "      <th>2016-01-07</th>\n",
       "      <td>0.014041</td>\n",
       "      <td>0.019274</td>\n",
       "      <td>-0.000354</td>\n",
       "      <td>-0.028206</td>\n",
       "      <td>-0.021072</td>\n",
       "      <td>-0.034646</td>\n",
       "      <td>-0.020990</td>\n",
       "      <td>0.046144</td>\n",
       "      <td>-0.004655</td>\n",
       "      <td>-0.002392</td>\n",
       "      <td>...</td>\n",
       "      <td>-0.098793</td>\n",
       "      <td>0.003835</td>\n",
       "      <td>-0.027974</td>\n",
       "      <td>-0.040247</td>\n",
       "      <td>-0.021031</td>\n",
       "      <td>-0.026168</td>\n",
       "      <td>-0.064207</td>\n",
       "      <td>-0.034712</td>\n",
       "      <td>-0.023261</td>\n",
       "      <td>-0.030479</td>\n",
       "    </tr>\n",
       "    <tr>\n",
       "      <th>2016-01-08</th>\n",
       "      <td>-0.004438</td>\n",
       "      <td>-0.023775</td>\n",
       "      <td>0.002120</td>\n",
       "      <td>0.004261</td>\n",
       "      <td>0.006192</td>\n",
       "      <td>-0.007769</td>\n",
       "      <td>-0.010152</td>\n",
       "      <td>0.037615</td>\n",
       "      <td>-0.004677</td>\n",
       "      <td>0.000479</td>\n",
       "      <td>...</td>\n",
       "      <td>-0.041556</td>\n",
       "      <td>-0.010995</td>\n",
       "      <td>-0.028779</td>\n",
       "      <td>-0.020748</td>\n",
       "      <td>-0.019560</td>\n",
       "      <td>-0.009556</td>\n",
       "      <td>0.015463</td>\n",
       "      <td>-0.013701</td>\n",
       "      <td>-0.004225</td>\n",
       "      <td>-0.011318</td>\n",
       "    </tr>\n",
       "    <tr>\n",
       "      <th>2016-01-11</th>\n",
       "      <td>-0.008935</td>\n",
       "      <td>-0.006033</td>\n",
       "      <td>-0.040945</td>\n",
       "      <td>-0.007254</td>\n",
       "      <td>-0.020491</td>\n",
       "      <td>-0.021459</td>\n",
       "      <td>-0.057759</td>\n",
       "      <td>-0.041003</td>\n",
       "      <td>-0.027725</td>\n",
       "      <td>-0.026190</td>\n",
       "      <td>...</td>\n",
       "      <td>-0.016590</td>\n",
       "      <td>0.007984</td>\n",
       "      <td>-0.020011</td>\n",
       "      <td>0.004416</td>\n",
       "      <td>-0.009926</td>\n",
       "      <td>-0.008473</td>\n",
       "      <td>-0.015132</td>\n",
       "      <td>-0.001763</td>\n",
       "      <td>-0.017383</td>\n",
       "      <td>-0.020120</td>\n",
       "    </tr>\n",
       "  </tbody>\n",
       "</table>\n",
       "<p>5 rows × 548 columns</p>\n",
       "</div>"
      ],
      "text/plain": [
       "                 GLD       SLV      PPLT       COW       DBB       JJC  \\\n",
       "Date                                                                     \n",
       "2016-01-05  0.002815  0.009057  0.004912  0.009163  0.001724  0.007494   \n",
       "2016-01-06  0.014337  0.003750 -0.010085 -0.001245 -0.008651 -0.001245   \n",
       "2016-01-07  0.014041  0.019274 -0.000354 -0.028206 -0.021072 -0.034646   \n",
       "2016-01-08 -0.004438 -0.023775  0.002120  0.004261  0.006192 -0.007769   \n",
       "2016-01-11 -0.008935 -0.006033 -0.040945 -0.007254 -0.020491 -0.021459   \n",
       "\n",
       "                 USO       UNG       DBC       DJP    ...         WYNN  \\\n",
       "Date                                                  ...                \n",
       "2016-01-05 -0.029577  0.012813 -0.009852 -0.004236    ...     0.018727   \n",
       "2016-01-06 -0.052973 -0.019872 -0.016123 -0.012818    ...    -0.053195   \n",
       "2016-01-07 -0.020990  0.046144 -0.004655 -0.002392    ...    -0.098793   \n",
       "2016-01-08 -0.010152  0.037615 -0.004677  0.000479    ...    -0.041556   \n",
       "2016-01-11 -0.057759 -0.041003 -0.027725 -0.026190    ...    -0.016590   \n",
       "\n",
       "                 XEL       XRX      XLNX        XL       XYL      YHOO  \\\n",
       "Date                                                                     \n",
       "2016-01-05  0.010034 -0.001944  0.014738  0.002092 -0.000277  0.025159   \n",
       "2016-01-06  0.010483 -0.012727 -0.018457 -0.008656 -0.012554 -0.001243   \n",
       "2016-01-07  0.003835 -0.027974 -0.040247 -0.021031 -0.026168 -0.064207   \n",
       "2016-01-08 -0.010995 -0.028779 -0.020748 -0.019560 -0.009556  0.015463   \n",
       "2016-01-11  0.007984 -0.020011  0.004416 -0.009926 -0.008473 -0.015132   \n",
       "\n",
       "                 YUM       ZBH      ZION  \n",
       "Date                                      \n",
       "2016-01-05 -0.002496  0.020609 -0.010917  \n",
       "2016-01-06 -0.007106  0.004320 -0.029578  \n",
       "2016-01-07 -0.034712 -0.023261 -0.030479  \n",
       "2016-01-08 -0.013701 -0.004225 -0.011318  \n",
       "2016-01-11 -0.001763 -0.017383 -0.020120  \n",
       "\n",
       "[5 rows x 548 columns]"
      ]
     },
     "execution_count": 8,
     "metadata": {},
     "output_type": "execute_result"
    }
   ],
   "source": [
    "diffs = np.log(closes).diff().dropna(axis = 0, how = \"all\").dropna(axis = 1, how = \"any\")\n",
    "diffs.head()"
   ]
  },
  {
   "cell_type": "markdown",
   "metadata": {},
   "source": [
    "<p>An Isomap is a manifold learning technique which compresses high dimensional data into a lower dimension space. This is useful for a number of machine learning applications including</p>\n",
    "<ul>\n",
    "<li>Classifiaction</li>\n",
    "<li>Regression</li>\n",
    "<li>Clustering</li>\n",
    "<li>Unsupervised and Semi-Supervised Learning</li>\n",
    "</ul>\n",
    "<p>In this case, we are going to make use of the clustering functions in particular. The Isomap algorithm will locate AAPL's location in low-dimension space and from there we can determine the nearest neighbors of AAPL. These will be stocks which herd together with AAPL in terms of price movement. Thus AAPL's <i>neighborhood</i> will provide us with a list of suitable hedges</p> "
   ]
  },
  {
   "cell_type": "code",
   "execution_count": 9,
   "metadata": {
    "collapsed": false
   },
   "outputs": [],
   "source": [
    "iso = sm.Isomap(dataset = diffs, K = 10)"
   ]
  },
  {
   "cell_type": "code",
   "execution_count": 10,
   "metadata": {
    "collapsed": false
   },
   "outputs": [
    {
     "name": "stderr",
     "output_type": "stream",
     "text": [
      "C:\\Python27\\lib\\site-packages\\ipykernel\\__main__.py:2: FutureWarning: sort(columns=....) is deprecated, use sort_values(by=.....)\n",
      "  from ipykernel import kernelapp as app\n"
     ]
    },
    {
     "data": {
      "text/html": [
       "<div>\n",
       "<table border=\"1\" class=\"dataframe\">\n",
       "  <thead>\n",
       "    <tr style=\"text-align: right;\">\n",
       "      <th></th>\n",
       "      <th>weight</th>\n",
       "    </tr>\n",
       "  </thead>\n",
       "  <tbody>\n",
       "    <tr>\n",
       "      <th>SPY</th>\n",
       "      <td>12.988554</td>\n",
       "    </tr>\n",
       "    <tr>\n",
       "      <th>CWB</th>\n",
       "      <td>13.535455</td>\n",
       "    </tr>\n",
       "    <tr>\n",
       "      <th>HYG</th>\n",
       "      <td>14.328221</td>\n",
       "    </tr>\n",
       "    <tr>\n",
       "      <th>JNK</th>\n",
       "      <td>14.380560</td>\n",
       "    </tr>\n",
       "    <tr>\n",
       "      <th>GOOGL</th>\n",
       "      <td>14.691412</td>\n",
       "    </tr>\n",
       "    <tr>\n",
       "      <th>GOOG</th>\n",
       "      <td>14.707732</td>\n",
       "    </tr>\n",
       "    <tr>\n",
       "      <th>BKLN</th>\n",
       "      <td>14.941799</td>\n",
       "    </tr>\n",
       "    <tr>\n",
       "      <th>EMB</th>\n",
       "      <td>15.010813</td>\n",
       "    </tr>\n",
       "    <tr>\n",
       "      <th>TXN</th>\n",
       "      <td>15.019424</td>\n",
       "    </tr>\n",
       "    <tr>\n",
       "      <th>EFA</th>\n",
       "      <td>15.025867</td>\n",
       "    </tr>\n",
       "    <tr>\n",
       "      <th>SWKS</th>\n",
       "      <td>23.173199</td>\n",
       "    </tr>\n",
       "  </tbody>\n",
       "</table>\n",
       "</div>"
      ],
      "text/plain": [
       "          weight\n",
       "SPY    12.988554\n",
       "CWB    13.535455\n",
       "HYG    14.328221\n",
       "JNK    14.380560\n",
       "GOOGL  14.691412\n",
       "GOOG   14.707732\n",
       "BKLN   14.941799\n",
       "EMB    15.010813\n",
       "TXN    15.019424\n",
       "EFA    15.025867\n",
       "SWKS   23.173199"
      ]
     },
     "execution_count": 10,
     "metadata": {},
     "output_type": "execute_result"
    }
   ],
   "source": [
    "aapl_hedges = iso.neighborhood(\"AAPL\")\n",
    "aapl_hedges = pd.DataFrame(aapl_hedges).T.sort(columns = \"weight\")\n",
    "aapl_hedges"
   ]
  },
  {
   "cell_type": "markdown",
   "metadata": {},
   "source": [
    "<p>The Isomap shows that from 2016 onward SPY, the S\\&P 500 ETF, was the best hedge for AAPL. The algorithm maps out the low-dimension <i>mesh</i> that describes the input price data the best.</p> \n",
    "\n",
    "<p>We can now feed the price data into our KalmanOLS pipeline to create an machine learning model which will 1) estimate the current hedge ratio and 2) allow us to update our hedge ratio as new price data becomes available.</p> \n",
    "\n",
    "<p>We can verify the intuition of the Isomap model visually:</p>"
   ]
  },
  {
   "cell_type": "code",
   "execution_count": 11,
   "metadata": {
    "collapsed": false
   },
   "outputs": [
    {
     "data": {
      "text/plain": [
       "<matplotlib.axes._subplots.AxesSubplot at 0x7b9bd90>"
      ]
     },
     "execution_count": 11,
     "metadata": {},
     "output_type": "execute_result"
    },
    {
     "data": {
      "image/png": "[encoded data removed]",
      "text/plain": [
       "<matplotlib.figure.Figure at 0x8f0b7b0>"
      ]
     },
     "metadata": {},
     "output_type": "display_data"
    }
   ],
   "source": [
    "pair = closes[['AAPL', 'SPY']]\n",
    "pair.div(pair.ix[0,:]).plot()"
   ]
  },
  {
   "cell_type": "markdown",
   "metadata": {},
   "source": [
    "Now let's create the Kalman Filter model and get the current state of the model. "
   ]
  },
  {
   "cell_type": "code",
   "execution_count": 12,
   "metadata": {
    "collapsed": false
   },
   "outputs": [],
   "source": [
    "kf = sm.KalmanOLS(dataset = closes[['AAPL', 'SPY']])"
   ]
  },
  {
   "cell_type": "markdown",
   "metadata": {},
   "source": [
    "<p>The KalmanOLS model has a function that let's us grab the current state of the model. The information we really care about here is the <i>mean</i> which describes the model's current estimate of the hedge ratio and intercept of our pairs trading model</p>"
   ]
  },
  {
   "cell_type": "code",
   "execution_count": 13,
   "metadata": {
    "collapsed": false
   },
   "outputs": [
    {
     "data": {
      "text/plain": [
       "{u'cov': [[0.005189436104539258, -1.2330712005856919],\n",
       "  [-1.2330712005856919, 293.98884752492955]],\n",
       " u'mean': [0.5862619781348402, 0.0034064598573656443]}"
      ]
     },
     "execution_count": 13,
     "metadata": {},
     "output_type": "execute_result"
    }
   ],
   "source": [
    "kf.getState()"
   ]
  },
  {
   "cell_type": "markdown",
   "metadata": {},
   "source": [
    "<p>In particular, the first element of the mean, i.e. 0.586, represents our current best hedge ratio. The second element is the current estimate of the intercept of the OLS model underpinning our pairs trade.</p>\n",
    "\n",
    "<p>We can get the historical hedge ratios over the life of the model with the next function:</p>"
   ]
  },
  {
   "cell_type": "code",
   "execution_count": 14,
   "metadata": {
    "collapsed": true
   },
   "outputs": [],
   "source": [
    "historical_state = kf.getTrainingData()"
   ]
  },
  {
   "cell_type": "code",
   "execution_count": 15,
   "metadata": {
    "collapsed": false
   },
   "outputs": [
    {
     "data": {
      "image/png": "[encoded data removed]",
      "text/plain": [
       "<matplotlib.figure.Figure at 0x7cf6410>"
      ]
     },
     "metadata": {},
     "output_type": "display_data"
    }
   ],
   "source": [
    "hedge_ratios = pd.DataFrame(historical_state['means'], index = closes.index, columns = [\"beta\", \"alpha\"])\n",
    "hedge_ratios['beta'].plot()\n",
    "plt.show()"
   ]
  },
  {
   "cell_type": "markdown",
   "metadata": {},
   "source": [
    "<p>We can see that the hedge ratio has been rising in the near term</p>\n",
    "\n",
    "<p>Let's do a quick sanity check on these hedge ratios, always a good idea before loading into a live trading strategy!!</p>"
   ]
  },
  {
   "cell_type": "code",
   "execution_count": 16,
   "metadata": {
    "collapsed": false
   },
   "outputs": [
    {
     "data": {
      "text/html": [
       "<div>\n",
       "<table border=\"1\" class=\"dataframe\">\n",
       "  <thead>\n",
       "    <tr style=\"text-align: right;\">\n",
       "      <th></th>\n",
       "      <th>AAPL</th>\n",
       "      <th>SPY</th>\n",
       "    </tr>\n",
       "    <tr>\n",
       "      <th>Date</th>\n",
       "      <th></th>\n",
       "      <th></th>\n",
       "    </tr>\n",
       "  </thead>\n",
       "  <tbody>\n",
       "    <tr>\n",
       "      <th>2017-02-27</th>\n",
       "      <td>136.929993</td>\n",
       "      <td>237.110001</td>\n",
       "    </tr>\n",
       "    <tr>\n",
       "      <th>2017-02-28</th>\n",
       "      <td>136.990005</td>\n",
       "      <td>236.470001</td>\n",
       "    </tr>\n",
       "    <tr>\n",
       "      <th>2017-03-01</th>\n",
       "      <td>139.789993</td>\n",
       "      <td>239.779999</td>\n",
       "    </tr>\n",
       "    <tr>\n",
       "      <th>2017-03-02</th>\n",
       "      <td>138.960007</td>\n",
       "      <td>238.270004</td>\n",
       "    </tr>\n",
       "    <tr>\n",
       "      <th>2017-03-03</th>\n",
       "      <td>139.779999</td>\n",
       "      <td>238.419998</td>\n",
       "    </tr>\n",
       "  </tbody>\n",
       "</table>\n",
       "</div>"
      ],
      "text/plain": [
       "                  AAPL         SPY\n",
       "Date                              \n",
       "2017-02-27  136.929993  237.110001\n",
       "2017-02-28  136.990005  236.470001\n",
       "2017-03-01  139.789993  239.779999\n",
       "2017-03-02  138.960007  238.270004\n",
       "2017-03-03  139.779999  238.419998"
      ]
     },
     "execution_count": 16,
     "metadata": {},
     "output_type": "execute_result"
    }
   ],
   "source": [
    "closes[['AAPL', 'SPY']].tail()"
   ]
  },
  {
   "cell_type": "code",
   "execution_count": 17,
   "metadata": {
    "collapsed": false
   },
   "outputs": [
    {
     "data": {
      "text/plain": [
       "139.71711882799997"
      ]
     },
     "execution_count": 17,
     "metadata": {},
     "output_type": "execute_result"
    }
   ],
   "source": [
    "238.419998 * 0.586 + 0.003"
   ]
  },
  {
   "cell_type": "markdown",
   "metadata": {},
   "source": [
    "<p>Now here comes the really cool part... <b>dynamic hedge ratios!</b></p>\n",
    "<p>As we saw in the introductory story, and as any seasoned pairs trader knows, the hedge ratio is likely to change over time as the market conditions change. Luckily the KalmanOLS model has a built in function to ingest new price information and update the hedge ratio automatically.</p>\n",
    "\n",
    "<p>For example, suppose these are the next two prices we observe for AAPL and SPY:</p>"
   ]
  },
  {
   "cell_type": "code",
   "execution_count": 18,
   "metadata": {
    "collapsed": true
   },
   "outputs": [],
   "source": [
    "aapl_px = 139.34\n",
    "spy_px  = 237.97"
   ]
  },
  {
   "cell_type": "code",
   "execution_count": 19,
   "metadata": {
    "collapsed": false
   },
   "outputs": [
    {
     "data": {
      "text/plain": [
       "{u'cov': [[0.005226738319753954, -1.23960489716516],\n",
       "  [-1.2396048971651596, 294.9888048341461]],\n",
       " u'mean': [0.5855217106683254, 0.0034016229939260647]}"
      ]
     },
     "execution_count": 19,
     "metadata": {},
     "output_type": "execute_result"
    }
   ],
   "source": [
    "kf.update(X = spy_px, Y = aapl_px)"
   ]
  },
  {
   "cell_type": "markdown",
   "metadata": {},
   "source": [
    "<p>Now we can feed the new hedge ratio, 0.585, into our trading strategy and update our hedges with SPY accordingly. Since <a href = \"http://www.slicematrix.com\">SliceMatrix-IO</a> is a Platform as a Service (PaaS) traders can use advanced machine learning models to quickly scale a trading operation. One could easily see how you could create multiple dynamic hedge ratios across the entire market with just a few lines of code.</p>"
   ]
  }
 ],
 "metadata": {
  "kernelspec": {
   "display_name": "Python 2",
   "language": "python",
   "name": "python2"
  },
  "language_info": {
   "codemirror_mode": {
    "name": "ipython",
    "version": 2
   },
   "file_extension": ".py",
   "mimetype": "text/x-python",
   "name": "python",
   "nbconvert_exporter": "python",
   "pygments_lexer": "ipython2",
   "version": "2.7.9"
  }
 },
 "nbformat": 4,
 "nbformat_minor": 0
}
